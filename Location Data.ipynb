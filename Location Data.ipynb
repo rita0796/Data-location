{
 "cells": [
  {
   "cell_type": "code",
   "execution_count": 2,
   "id": "c3dad3cd",
   "metadata": {},
   "outputs": [],
   "source": [
    " country = \"USA\""
   ]
  },
  {
   "cell_type": "code",
   "execution_count": 3,
   "id": "997df3ef",
   "metadata": {},
   "outputs": [],
   "source": [
    "state = \"Florida\""
   ]
  },
  {
   "cell_type": "code",
   "execution_count": 4,
   "id": "e71b684c",
   "metadata": {},
   "outputs": [],
   "source": [
    "city = \"Miami\""
   ]
  },
  {
   "cell_type": "code",
   "execution_count": 5,
   "id": "b4ac1868",
   "metadata": {},
   "outputs": [],
   "source": [
    "continent = \"North America\" "
   ]
  }
 ],
 "metadata": {
  "kernelspec": {
   "display_name": "Python 3 (ipykernel)",
   "language": "python",
   "name": "python3"
  },
  "language_info": {
   "codemirror_mode": {
    "name": "ipython",
    "version": 3
   },
   "file_extension": ".py",
   "mimetype": "text/x-python",
   "name": "python",
   "nbconvert_exporter": "python",
   "pygments_lexer": "ipython3",
   "version": "3.9.13"
  }
 },
 "nbformat": 4,
 "nbformat_minor": 5
}
